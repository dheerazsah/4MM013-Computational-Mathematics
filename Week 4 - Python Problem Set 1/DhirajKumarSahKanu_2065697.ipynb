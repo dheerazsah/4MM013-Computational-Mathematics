{
 "cells": [
  {
   "cell_type": "markdown",
   "metadata": {},
   "source": [
    "## Python Workshop 4 Exercises"
   ]
  },
  {
   "cell_type": "markdown",
   "metadata": {},
   "source": [
    "<div class=\"alert alert-block alert-info\">Examine and test the example code below, then devise and write your code to answer the 5 questions that follow <b>and submit your work to the Canvas portal provided, for assesment, towards your portfolio.</b></div>"
   ]
  },
  {
   "cell_type": "markdown",
   "metadata": {},
   "source": [
    "#### Please enter your name in the cell below:"
   ]
  },
  {
   "cell_type": "markdown",
   "metadata": {},
   "source": [
    "Dhiraj Kumar Sah Kanu"
   ]
  },
  {
   "cell_type": "markdown",
   "metadata": {},
   "source": [
    "#### Lists, vectors and matricies in Python"
   ]
  },
  {
   "cell_type": "markdown",
   "metadata": {},
   "source": [
    "There is no special structure in Python for representing a two-dimensional table.  Typically each row of a table is represented as a list, and the whole table is represented as a list of lists, its rows.  For example,\n",
    "\n",
    "              1  2  3\n",
    "              4  5  6\n",
    "\n",
    "can be defined as:\n",
    "\n"
   ]
  },
  {
   "cell_type": "markdown",
   "metadata": {},
   "source": [
    "<code> >>> m = [[1, 2, 3], [4, 5, 6]]</code>\n",
    "\n",
    "Actually, Python lets you split lists over multiple lines, so you can write\n",
    "\n",
    "<code> >>> m =[[1, 2, 3],\n",
    "        [4, 5, 6]]</code>"
   ]
  },
  {
   "cell_type": "markdown",
   "metadata": {},
   "source": [
    "m[0] is the first row of the table, m[1] is the second row, and so on.  m[r] refers to the row with the index r (the (r+1) th row of the table — recall that in Python indices start from 0).  The elements in the row with the index r are m[r][0], m[r][1],  m[r][2], and so on.  In the above example, the value of the element m[0][2] is 3."
   ]
  },
  {
   "cell_type": "markdown",
   "metadata": {},
   "source": [
    "<div class=\"alert alert-block alert-danger\">\n",
    "Now try to write the Python code to answer the following questions in the cells below. <i>You may use Python built-in or library functions that might help but <b>not</b> third-party libraries such as Numpy.</i> </div>"
   ]
  },
  {
   "cell_type": "markdown",
   "metadata": {},
   "source": [
    "#### <font color=\"red\"><b>1.</b></font> Write a Python function that returns the sum of all the elements of a given vector.  Call the function <i>vectorSum</i>, it should take one argument, the vector v and return a single value. ie [1,2,3,4,5,6] would return 21. <font color=\"blue\">Test your solution using a vector made-up of your student number.</font> "
   ]
  },
  {
   "cell_type": "code",
   "execution_count": 9,
   "metadata": {},
   "outputs": [
    {
     "name": "stdout",
     "output_type": "stream",
     "text": [
      "The sum of all the elements of the given vector is:  21\n"
     ]
    }
   ],
   "source": [
    "#defining the function\n",
    "def vectorSum(v):\n",
    "    result = 0\n",
    "    \n",
    "    #using loop to iterate\n",
    "    for i in v:\n",
    "        result = result + i\n",
    "        \n",
    "    #output result\n",
    "    print (\"The sum of all the elements of the given vector is: \",result)\n",
    "vectorSum ([1,2,3,4,5,6])"
   ]
  },
  {
   "cell_type": "code",
   "execution_count": 10,
   "metadata": {},
   "outputs": [
    {
     "name": "stdout",
     "output_type": "stream",
     "text": [
      "The sum of all the elements of the given vector is:  35\n"
     ]
    }
   ],
   "source": [
    "#Using vector made-up of my Student Number\n",
    "\n",
    "#defining the function\n",
    "def vectorSum(v):\n",
    "    result = 0\n",
    "    \n",
    "    #using loop to iternate\n",
    "    for i in v:\n",
    "        result = result + i\n",
    "        \n",
    "    #output result\n",
    "    print (\"The sum of all the elements of the given vector is: \",result)\n",
    "vectorSum ([2,0,6,5,6,9,7])"
   ]
  },
  {
   "cell_type": "markdown",
   "metadata": {},
   "source": [
    "#### <font color=\"red\"><b>2.</b></font> Write a Python function that returns the sum of all the elements of a given matrix.  Call the function <i>matrixSum</i>, it should take one argument, the matrix m and return a single value. ie [[1,2,3],[4,5,6]] would return 21.  Write your own solution do not use the Numpy library."
   ]
  },
  {
   "cell_type": "code",
   "execution_count": 7,
   "metadata": {},
   "outputs": [
    {
     "name": "stdout",
     "output_type": "stream",
     "text": [
      "The sum of all the elements of a given matrix is:  21\n"
     ]
    }
   ],
   "source": [
    "def matrixSum():\n",
    "    # given matrix\n",
    "    m = [[1, 2, 3], [4, 5, 6]]\n",
    "    result = 0\n",
    "    \n",
    "    # using loop through rows\n",
    "    for i in range(len(m)):\n",
    "        \n",
    "        # using loop through columns\n",
    "        for j in range(len(m[0])):\n",
    "            result += m[i][j]\n",
    "            \n",
    "    # output result       \n",
    "    print(\"The sum of all the elements of a given matrix is: \",result)\n",
    "matrixSum()"
   ]
  },
  {
   "cell_type": "code",
   "execution_count": 11,
   "metadata": {},
   "outputs": [
    {
     "data": {
      "text/plain": [
       "21"
      ]
     },
     "execution_count": 11,
     "metadata": {},
     "output_type": "execute_result"
    }
   ],
   "source": [
    "#Alternate method\n",
    "def matrixSum(m):\n",
    "    result = 0\n",
    "    \n",
    "    # using loop through rows\n",
    "    for i in range(len(m)):\n",
    "        \n",
    "        # using loop through columns\n",
    "        for j in range(len(m[0])):\n",
    "            result = result + m[i][j]\n",
    "            \n",
    "    # output result  \n",
    "    return result\n",
    "        \n",
    "matrixSum([[1,2,3],[4,5,6]])"
   ]
  },
  {
   "cell_type": "markdown",
   "metadata": {},
   "source": [
    "#### <font color=\"red\"><b>3.</b></font> Write a Python function that returns the position of the element in a vector of numbers nearest the mean value for that vector.  ie for the vector [2, 7, 9, 5, 1, 7, 3, 1] would return 3 <i>(as the value 5 is closest to the mean)</i>.  Call the function <i>vectorMeanPos</i>, it should take one argument, the vector v and return a single integer value.  <font color=\"blue\">Again test your solution using a vector made-up of your student number.</font> "
   ]
  },
  {
   "cell_type": "code",
   "execution_count": 16,
   "metadata": {},
   "outputs": [
    {
     "name": "stdout",
     "output_type": "stream",
     "text": [
      "The required output is:  3\n"
     ]
    }
   ],
   "source": [
    "#defining the function\n",
    "def vectorMeanPos(v):\n",
    "    result = 0\n",
    "    \n",
    "    for i in v:\n",
    "        result = result + i\n",
    "    mean = result / len(v)\n",
    "    \n",
    "    for i,item in enumerate(v):\n",
    "        v[i] =abs (mean-item)\n",
    "        \n",
    "    # output result  \n",
    "    return v.index(min(v)) \n",
    "print (\"The required output is: \",vectorMeanPos([2, 7, 9, 5, 1, 7, 3, 1]))    \n"
   ]
  },
  {
   "cell_type": "code",
   "execution_count": 14,
   "metadata": {},
   "outputs": [
    {
     "name": "stdout",
     "output_type": "stream",
     "text": [
      "The required output is:  3\n"
     ]
    }
   ],
   "source": [
    "#Using vector made-up of my Student Number\n",
    "\n",
    "#defining the function\n",
    "def vectorMeanPos(v):\n",
    "    sum=0\n",
    "    \n",
    "    for i in v:\n",
    "        sum=sum+i\n",
    "    mean=sum/len(v)\n",
    "    for i,item in enumerate(v):\n",
    "        v[i]=abs(mean-item)\n",
    "        \n",
    "    # output result  \n",
    "    return v.index(min(v)) \n",
    "print(\"The required output is: \",vectorMeanPos([2, 7, 9, 5, 1, 7, 3, 1]))    \n"
   ]
  },
  {
   "cell_type": "markdown",
   "metadata": {},
   "source": [
    "#### <font color=\"red\"><b>4.</b></font> An n by n matrix defines a linear transformation (function) on n-dimensional vectors.<br>  If $ A = \\begin{pmatrix} a_{11} & a_{12} & ... & a_{1n} \\\\ a_{21} & a_{22} & ... & a_{2n} \\\\ ... \\\\ a_{n1} & a_{n2} & ... & a_{nn} \\end{pmatrix} $ and $ \\bar{x} = (x_{1},x_{2}...x_{n}) $, then $ A.\\bar{x} $ is a new vector $ \\bar{y} = (y_{1},y_{2}...y_{n}) $, such that  $ y_{i} = (a_{i1}x_{1}+a_{i2}x_{2}+...+a_{in}x_{n}) $.  In other words, $ y_{i} $ is the dot product of the <i>i-th</i> row of the matrix and $ \\bar{x} $.  Write and test a Python function, called <i>linearTrans</i>, that takes an <i>n</i> by <i>n</i> matrix <i>A</i> and an n-dimensional vector $ \\bar{x} $  and returns the vector $ A.\\bar{x} $."
   ]
  },
  {
   "cell_type": "code",
   "execution_count": 21,
   "metadata": {},
   "outputs": [
    {
     "name": "stdout",
     "output_type": "stream",
     "text": [
      "The vector  𝐴.𝑥¯ is:  [77, 48, 23]\n"
     ]
    }
   ],
   "source": [
    "#defining the function\n",
    "def linearTrans(m,v):\n",
    "    n = len(m) \n",
    "    result = []\n",
    "    \n",
    "    # using loop through rows\n",
    "    for i in range(n):\n",
    "        x = 0\n",
    "        \n",
    "        # using loop through columns\n",
    "        for j in range(len(v)):\n",
    "            x += (m[i][j] * v[j])\n",
    "        result.append(x)\n",
    "        \n",
    "    #output result\n",
    "    print(\"The vector  𝐴.𝑥¯ is: \",result)\n",
    "\n",
    "#input values\n",
    "m = [[9,8,7],[5,6,4],[1,2,3]]\n",
    "v= [2,3,5]\n",
    "linearTrans(m,v)"
   ]
  },
  {
   "cell_type": "markdown",
   "metadata": {},
   "source": [
    "#### <font color=\"red\"><b>5.</b></font> Suppose we have two <i>n</i> by <i>n</i> matrices:<br> $ A = \\begin{pmatrix} a_{11} & a_{12} & ... & a_{1n} \\\\ a_{21} & a_{22} & ... & a_{2n} \\\\ ... \\\\ a_{n1} & a_{n2} & ... & a_{nn} \\end{pmatrix} $   and     $ B = \\begin{pmatrix} b_{11} & b_{12} & ... & b_{1n} \\\\ b_{21} & b_{22} & ... & b_{2n} \\\\ ... \\\\ b_{n1} & b_{n2} & ... & b_{nn} \\end{pmatrix} $<br> The matrix <i>C</i> in which $ c_{ij} = (a_{i1}b_{1j}+a_{i2}x_{2j}+...+a_{in}x_{nj}) $ is called the product of <i>A</i> and <i>B</i> and denoted as <i>A.B</i> or simply $AB . c_{ij}$ is the dot product of the i th row in A and the j-th column in B.  Write and test a Python function, called <i>matrixProd</i>, that takes two square matrices of the same size and returns their product.  <i>Hint: don’t forget to create the resulting matrix before you put values into it.</i>\n"
   ]
  },
  {
   "cell_type": "code",
   "execution_count": 26,
   "metadata": {},
   "outputs": [
    {
     "data": {
      "text/plain": [
       "[[10, 24, 39], [27, 48, 92], [43, 69, 145]]"
      ]
     },
     "execution_count": 26,
     "metadata": {},
     "output_type": "execute_result"
    }
   ],
   "source": [
    "#defining the function\n",
    "def  matrixProd(A,B):\n",
    "    \n",
    "    #returning values for elements inside matrix\n",
    "    return [[sum(a*b for a,b in zip(A_row,B_column)) for B_column in zip(*B)] for A_row in A]\n",
    "\n",
    "#input values of matrix \n",
    "A = [[2,1,3],[4,5,4],[7,8,5]]\n",
    "B =[[2,1,8],[3,4,8],[1,6,5]] \n",
    "\n",
    "matrixProd(A,B)"
   ]
  },
  {
   "cell_type": "markdown",
   "metadata": {},
   "source": [
    "### Downloading your workbook"
   ]
  },
  {
   "cell_type": "markdown",
   "metadata": {},
   "source": [
    "Please note even if you are Jupyter on your computer (ie. not on a network) the Jupyter notebook runs as a server, so you are editing and running a file that is not easily accessed on your filing system. So to obtain your workbook (to use on a different computer or upload as an assignment, etc.) it must be downloaded to your file system. To do this..."
   ]
  },
  {
   "cell_type": "markdown",
   "metadata": {},
   "source": [
    "<div class=\"alert alert-block alert-info\">Goto the <b>\"File\"</b> menu and select the <b>\"Download as\"</b> item. You can then select <b>\"notebook (ipynb)\"</b> to download.</div>"
   ]
  }
 ],
 "metadata": {
  "kernelspec": {
   "display_name": "Python 3",
   "language": "python",
   "name": "python3"
  },
  "language_info": {
   "codemirror_mode": {
    "name": "ipython",
    "version": 3
   },
   "file_extension": ".py",
   "mimetype": "text/x-python",
   "name": "python",
   "nbconvert_exporter": "python",
   "pygments_lexer": "ipython3",
   "version": "3.8.8"
  }
 },
 "nbformat": 4,
 "nbformat_minor": 2
}
