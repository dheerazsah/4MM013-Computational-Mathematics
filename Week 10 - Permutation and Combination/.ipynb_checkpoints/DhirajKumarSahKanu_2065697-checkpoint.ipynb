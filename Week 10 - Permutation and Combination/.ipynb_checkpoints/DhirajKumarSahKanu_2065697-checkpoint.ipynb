{
 "cells": [
  {
   "cell_type": "markdown",
   "metadata": {},
   "source": [
    "Name: Dhiraj Kumar Sah Kanu <br>\n",
    "ID: 2065697"
   ]
  },
  {
   "cell_type": "markdown",
   "metadata": {},
   "source": [
    "## Python Workshop 10 Exercises"
   ]
  },
  {
   "cell_type": "markdown",
   "metadata": {},
   "source": [
    "<div class=\"alert alert-block alert-info\">Read and examine the text below and then answer the 8 questions that follow. Note: not all of the answers require a coded solution</div>"
   ]
  },
  {
   "cell_type": "markdown",
   "metadata": {},
   "source": [
    "### Dictionaries"
   ]
  },
  {
   "cell_type": "markdown",
   "metadata": {},
   "source": [
    "Like an array (or list) a dictionary is a Python data structure that allows the storage (and retrieval) of collections of data.\n",
    "\n",
    "|<font color=\"blue\">0|<font color=\"blue\">1|<font color=\"blue\">2|<font color=\"blue\">3|<font color=\"blue\">4|\n",
    "| :-: | :-: | :-: | :-: | :-: |\n",
    "|'Scott|'Virgil'|'Alan'|'Gordon'|'John'|\n",
    "\n",
    "However some data does not fit so easily into a numerical index.  It might be easier to use a label (or key) to index the data  \n",
    "\n",
    "|<font color=\"red\">'vocals'|<font color=\"red\">'bass_guitar'|<font color=\"red\">'lead_guitar'|<font color=\"red\">'drums'|<font color=\"red\">'Creative'|\n",
    "| :-: | :-: | :-: | :-: | :-: |\n",
    "|'Chris'|'Guy'|'Johnny'|'Will'|'Phil'|\n",
    "\n",
    "A dictionary in Python data structure allows associations between a set of keys and a set of values.  Only one value corresponds to each key.  (In some other programming languages, such a data structure is called a map or hash table).  In mathematical terms, a dictionary defines a function on a set of keys.  In practical terms, a dictionary lets you quickly look up a value (an object, a data record, a text segment) associated with a given key.  In a database of taxpayers, for example, the key may be a taxpayer’s social security number, and his or her record may be the associated value.  In the post code lookup program, the key may be a post code, and the name of the city or town for that post code will be the associated value.  The set of keys is implemented as a hash table.\n",
    "\n",
    "You can create a dictionary with initial entries by listing the key : value pairs within curly braces.  For example:\n",
    "\n",
    "<code>games = {'Athens': 2004, 'Atlanta': 1996, 'Beijing': 2008,\n",
    "                'London': 2012, 'Rio': 2016, 'Sydney': 2000}</code>\n"
   ]
  },
  {
   "cell_type": "markdown",
   "metadata": {},
   "source": [
    "Another example:\n",
    "<code>\n",
    "domains = {\n",
    "           '.ac' : 'Ascension Island',\n",
    "           '.ad' : 'Andorra',\n",
    "         ...\n",
    "           '.uk' : 'United Kingdom',\n",
    "         ...\n",
    "           '.zw' : 'Zimbabwe'\n",
    "         }</code>\n",
    "\n",
    "Sometimes a short dictionary is used to name the fields of a data record for convenience.  For example:\n",
    "<code>\n",
    "book = {'title' : 'Green Eggs and Ham',\n",
    "        'author' : 'Dr. Seuss',\n",
    "        'isbn' : '0545002850'}</code>\n",
    "\n",
    "<code>d = {}  #sets d to an empty dictionary.</code>"
   ]
  },
  {
   "cell_type": "markdown",
   "metadata": {},
   "source": [
    "Once a dictionary is defined, you can refer to its values using a key as an “index.”  For example:\n",
    "<code>\n",
    "'>>>' book['author']\n",
    "'Dr. Seuss'\n",
    "'>>>' book['isbn']\n",
    "'0545002850'</code>\n",
    "\n",
    "You can modify the value associated with a key and add new key-value pairs using similar syntax:\n",
    "<code>\n",
    "'>>>' book['isbn'] = '9780583324205'\n",
    "'>>>' book['price'] = 7.99\n",
    "'>>>' book['price']\n",
    "7.99</code>\n",
    "\n",
    "<b>Note:</b> <i>If the key does not exist simply assigning a value to a key will create the key/value pair in the dictionary for you.</i>"
   ]
  },
  {
   "cell_type": "markdown",
   "metadata": {},
   "source": [
    "We said earlier that a dictionary associates a single value with each key.  However, nothing prevents us from making that value a list or a tuple, if necessary.  For example:\n",
    "<code>\n",
    "spanishEnglish = {\n",
    "    'abajo' : ['down', 'below', 'downstairs'],\n",
    "    'presto' : ['quick', 'prompt', 'ready', 'soon']\n",
    "  }</code><br>\n",
    "...\n",
    "\n",
    "<code>translations = spanishEnglish['presto']\n",
    "print(translations)</code>\n",
    "\n",
    "The output will be:\n",
    "\n",
    "<code>[quick, prompt, ready, soon]</code>"
   ]
  },
  {
   "cell_type": "markdown",
   "metadata": {},
   "source": [
    "### Simple file handling\n",
    "\n",
    "To open a file in the computers filing system, for reading, all you have to do is is call the open function with the (full) path to the required file. eg: \n",
    "\n",
    "<code>handle = open('c:/some/complex/path/bitcoinStash.txt')</code>\n",
    "\n",
    "This will open the file for reading and return a handle that you can use to access the content of the file such as:\n",
    "\n",
    "<code>line = handle.readline()\n",
    "print(\"first line: {}\".format(line))\n",
    "line = handle.readline()\n",
    "print(\"second line: {}\".format(line))\n",
    "</code>\n",
    "\n",
    "you can print whole file line by line in a for loop:\n",
    "<code>for line in handle:\n",
    "    print(\"line: {}\".format(line))\n",
    "</code>\n",
    "\n",
    "or even load the whole file into a list of strings in one go, using the readlines method:\n",
    "\n",
    "<code>print(\"whole file: {}\".format(handle.readlines()))\n",
    "</code>\n"
   ]
  },
  {
   "cell_type": "markdown",
   "metadata": {},
   "source": [
    "<div class=\"alert alert-block alert-danger\">\n",
    "Now try to write the Python code to answer the following questions in the cells below. <i>You may use Python built-in or library functions that might help but <b>not</b> third-party libraries such as Numpy.</i> </div>"
   ]
  },
  {
   "cell_type": "markdown",
   "metadata": {},
   "source": [
    "#### <font color=\"red\"><b>1.</b></font> Define a dictionary that holds several name-password pairs (with the name used as the key).  Write and test a function, <i>checkPassword</i>, that takes such a dictionary and a (name, password) pair (represented as a tuple) and returns True if the name is in the dictionary and the password matches the one in the dictionary."
   ]
  },
  {
   "cell_type": "code",
   "execution_count": 8,
   "metadata": {},
   "outputs": [
    {
     "ename": "SyntaxError",
     "evalue": "'return' outside function (<ipython-input-8-d5c0c77634db>, line 6)",
     "output_type": "error",
     "traceback": [
      "\u001b[1;36m  File \u001b[1;32m\"<ipython-input-8-d5c0c77634db>\"\u001b[1;36m, line \u001b[1;32m6\u001b[0m\n\u001b[1;33m    return True\u001b[0m\n\u001b[1;37m    ^\u001b[0m\n\u001b[1;31mSyntaxError\u001b[0m\u001b[1;31m:\u001b[0m 'return' outside function\n"
     ]
    }
   ],
   "source": [
    "data = {'Ram':123, 'Madan':456, 'Hari':678, 'Manoj':987}\n",
    "tup = ('Ram',123)\n",
    "\n",
    "if tup[0] in data.keys():\n",
    "    if data[tup[0]] == tup[1]:\n",
    "        return True\n",
    "    else:\n",
    "        return False\n",
    "else:\n",
    "    return False\n"
   ]
  },
  {
   "cell_type": "code",
   "execution_count": 3,
   "metadata": {},
   "outputs": [
    {
     "name": "stdout",
     "output_type": "stream",
     "text": [
      "Correct Name and Password\n"
     ]
    }
   ],
   "source": [
    "data = {'Ram':123, 'Madan':456, 'Hari':678, 'Manoj':987}\n",
    "tup = ('Ram',123)\n",
    "\n",
    "if tup[0] in data.keys():\n",
    "    if data[tup[0]] == tup[1]:\n",
    "        print('Correct Name and Password')\n",
    "    else:\n",
    "        print('Incorrect')\n",
    "else:\n",
    "    print('Incorrect')\n"
   ]
  },
  {
   "cell_type": "markdown",
   "metadata": {},
   "source": [
    "#### <font color=\"red\"><b>2.</b></font> A tune (track, record, single) is described by its title, band, and duration in seconds.  Define a dictionary for “Alligator” by The Nationals, 4:05."
   ]
  },
  {
   "cell_type": "code",
   "execution_count": null,
   "metadata": {},
   "outputs": [],
   "source": [
    "Alligator = {1:['Secret Meeting', 'The Nationals',224], 2:['Karen','The Nationals',239], 3:['Lit Up','The Nationals',175]}"
   ]
  },
  {
   "cell_type": "markdown",
   "metadata": {},
   "source": [
    "#### <font color=\"red\"><b>3.</b></font> Suppose in a dictionary all values associated with keys are different.  Write a function <i>reverseDictionary(d)</i> that takes such a dictionary and returns a “reverse” dictionary in which each value becomes a key and its key becomes the associated value.  For example, reverseDictionary({1:'A', 2:'B', 3:'C'}) should return {'A':1, 'B':2, 'C':3}"
   ]
  },
  {
   "cell_type": "code",
   "execution_count": 12,
   "metadata": {},
   "outputs": [
    {
     "name": "stdout",
     "output_type": "stream",
     "text": [
      "{1: 'A', 2: 'B', 3: 'C'}\n",
      "{'A': 1, 'B': 2, 'C': 3}\n"
     ]
    }
   ],
   "source": [
    "dict_4 = {1:'A', 2:'B', 3:'C'}\n",
    "print(dict_4)\n",
    "\n",
    "print({values:keys for keys, values in dict_4.items()})"
   ]
  },
  {
   "cell_type": "code",
   "execution_count": 11,
   "metadata": {},
   "outputs": [
    {
     "name": "stdout",
     "output_type": "stream",
     "text": [
      "{1: 'A', 2: 'B', 3: 'C'}\n",
      "{'A': 1, 'B': 2, 'C': 3}\n"
     ]
    }
   ],
   "source": [
    "dict_4 = {1:'A', 2:'B', 3:'C'}\n",
    "rev_d = {}\n",
    "print(dict_4)\n",
    "\n",
    "for i,j in dict_4.items():\n",
    "    rev_d[j] = i\n",
    "print(rev_d)\n",
    "#print({values:keys for keys, values in dict_4.items()})"
   ]
  },
  {
   "cell_type": "markdown",
   "metadata": {},
   "source": [
    "#### <font color=\"red\"><b>4.</b></font> Define a dictionary that can serve as an index for a book.  Each key is a word; the associated value is a list of the page numbers of all the pages on which that word occurs.  Write and test a function <i>addEntry(d, word, page)</i> that takes such  a dictionary d and adds page to the list of page numbers associated with word.  If word is already in the dictionary and page is in its list, then page should not be added.  If word is not yet in the dictionary, then <i>addEntry</i> should create a new entry for word with page in its list."
   ]
  },
  {
   "cell_type": "code",
   "execution_count": 21,
   "metadata": {},
   "outputs": [
    {
     "name": "stdout",
     "output_type": "stream",
     "text": [
      "Word Exists But Page Doesnot\n"
     ]
    }
   ],
   "source": [
    "index = {'Java':[2,4,7], 'C':[12,8,7], 'C#':[13,73,2], 'JS':[8,9,10]}\n",
    "word = 'JS' \n",
    "page = 8\n",
    "\n",
    "def addIndex(index,word,page):\n",
    "    #already present\n",
    "    if word in index.keys():\n",
    "        if page in index[word]: #word and page both present\n",
    "            print('Already Exists')\n",
    "        else: #word present page not present\n",
    "            index[word].append(page)  \n",
    "            print('Word Exists But Page Doesnot')\n",
    "    else: #both not present\n",
    "        index[word] = [page]\n",
    "        return index\n",
    "\n",
    "addIndex(index,word,page)    "
   ]
  },
  {
   "cell_type": "markdown",
   "metadata": {},
   "source": [
    "#### <font color=\"red\"><b>5.</b></font> Write a program that quizzes a student on the capitals of the 27 E.U. countries.  Create a text file that lists all the states and their capitals.  The program reads the file line by line and puts all the state-capital pairs into a dictionary.  The program then extracts a set of all the states from the dictionary, and ten times presents a randomly chosen state to the student (without repetition).  The program matches each answer (case blind) against the state capital in the dictionary and keeps track of the number of correct answers.  At the end, the program displays the number of correct answers."
   ]
  },
  {
   "cell_type": "code",
   "execution_count": null,
   "metadata": {},
   "outputs": [],
   "source": [
    "file = open('Group1.txt','r') #read mode\n",
    "file.read()\n",
    "C:\\Users\\DELL\\Desktop"
   ]
  },
  {
   "cell_type": "code",
   "execution_count": null,
   "metadata": {},
   "outputs": [],
   "source": [
    "file = open('Group1.txt','a') #append mode\n",
    "file.write()"
   ]
  },
  {
   "cell_type": "code",
   "execution_count": null,
   "metadata": {},
   "outputs": [],
   "source": [
    "#create a dictionary\n",
    "import random\n",
    "count = 0\n",
    "with open('euStates.txt') as f:\n",
    "    data = dict(x.strip().split(':') for x in f)\n",
    "\n",
    "    #ask 10 questions \n",
    "    question = random.sample(data.keys(),2)\n",
    "    for i in question:\n",
    "        answer = input('Enter the capital city of: {}'.format(i))\n",
    "        if answer.capitalize() == data[i].lstrip():\n",
    "            count += 1\n",
    "    #display the score \n",
    "    print('Your score is: {}'.format(count))"
   ]
  },
  {
   "cell_type": "code",
   "execution_count": 22,
   "metadata": {},
   "outputs": [
    {
     "name": "stdout",
     "output_type": "stream",
     "text": [
      "abc\n",
      "abc\n"
     ]
    }
   ],
   "source": [
    "p = 'abc'\n",
    "q = '   abc'\n",
    "print(p)\n",
    "print(q.strip())"
   ]
  },
  {
   "cell_type": "markdown",
   "metadata": {},
   "source": [
    "### Downloading your workbook"
   ]
  },
  {
   "cell_type": "markdown",
   "metadata": {},
   "source": [
    "Please note even if you are Jupyter on your computer (ie. not on a network) the Jupyter notebook runs as a server, so you are editing and running a file that is not easily accessed on your filing system. So to obtain your workbook (to use on a different computer or upload as an assignment, etc.) it must be downloaded to your file system. To do this..."
   ]
  },
  {
   "cell_type": "markdown",
   "metadata": {},
   "source": [
    "<div class=\"alert alert-block alert-info\">Goto the <b>\"File\"</b> menu and select the <b>\"Download as\"</b> item. You can then select <b>\"notebook (ipynb)\"</b> to download.</div>"
   ]
  }
 ],
 "metadata": {
  "kernelspec": {
   "display_name": "Python 3",
   "language": "python",
   "name": "python3"
  },
  "language_info": {
   "codemirror_mode": {
    "name": "ipython",
    "version": 3
   },
   "file_extension": ".py",
   "mimetype": "text/x-python",
   "name": "python",
   "nbconvert_exporter": "python",
   "pygments_lexer": "ipython3",
   "version": "3.8.8"
  }
 },
 "nbformat": 4,
 "nbformat_minor": 2
}
