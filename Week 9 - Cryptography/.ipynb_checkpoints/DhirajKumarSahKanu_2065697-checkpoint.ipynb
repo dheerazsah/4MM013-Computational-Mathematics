{
 "cells": [
  {
   "cell_type": "markdown",
   "metadata": {},
   "source": [
    "Name: Dhiraj Kumar Sah Kanu <br>\n",
    "ID: 2065697"
   ]
  },
  {
   "cell_type": "markdown",
   "metadata": {
    "id": "CKNLKC2HWKNd"
   },
   "source": [
    "## Python Workshop 10 Exercises"
   ]
  },
  {
   "cell_type": "markdown",
   "metadata": {
    "id": "gmCWJyLbWKNi"
   },
   "source": [
    "<div class=\"alert alert-block alert-info\">Read and examine the text below and then answer the 8 questions that follow. Note: not all of the answers require a coded solution</div>"
   ]
  },
  {
   "cell_type": "markdown",
   "metadata": {
    "id": "oZMP_xD4WKNj"
   },
   "source": [
    "### Introduction to cryptology"
   ]
  },
  {
   "cell_type": "markdown",
   "metadata": {
    "id": "hHdGHRwvWKNj"
   },
   "source": [
    "Cryptology is a science of making and analyzing ciphers.  In a simple case, if Alice and Bob want to send each other encrypted messages, all they have to do is agree on which encryption method they are going to use.  (“Alice” and “Bob” are often used in cryptology literature to explain secure communications between two people or organizations.  There is a third character, eavesdropper “Eve,” who monitors all exchanges between Alice and Bob.  Eve will try to guess which method Alice and Bob are using.)"
   ]
  },
  {
   "cell_type": "markdown",
   "metadata": {
    "id": "1eNQzZgBWKNk"
   },
   "source": [
    "### Example 1"
   ]
  },
  {
   "cell_type": "markdown",
   "metadata": {
    "id": "_NY7srwwWKNk"
   },
   "source": [
    "In a simple substitution cipher, a secret key tells which letter should replace ‘A’, ‘B’, ..., ‘Z’.  For example:\n",
    "\n",
    "\tLetter to encrypt:\tABCDEFGHIJKLMNOPQRSTUVWXYZ\n",
    "\tKey:\tQEKUOYMBJXRCDZNVTGFASHWPLI\n",
    "\n",
    "“On time” is encrypted as “Nz ajdo.”  This cipher is easy to break by comparing the frequencies of occurrence of different letters in the plain text and encoded text and by guessing about the common short words (articles, prepositions, etc.)."
   ]
  },
  {
   "cell_type": "markdown",
   "metadata": {
    "id": "c2oTzdFHWKNk"
   },
   "source": [
    "To address this problem, cryptographers, over the years have, developed more robust cyphers such as the Vigenère cipher (https://en.wikipedia.org/wiki/Vigen%C3%A8re_cipher) but eventually even these were defeated.  Current cryptography standard (used in commerce, banking and security) rely on public key algorithms such as RSA."
   ]
  },
  {
   "cell_type": "markdown",
   "metadata": {
    "id": "E_4tISnrWKNl"
   },
   "source": [
    "#### The RSA Algorithm"
   ]
  },
  {
   "cell_type": "markdown",
   "metadata": {
    "id": "H792durPWKNl"
   },
   "source": [
    "The name of the RSA algorithm is formed by the first letters Ron Rivest, Adi Shamir, and Leonard Adleman at MIT, who invented the algorithm in 1977.  The RSA algorithm is now widely used for secure communications and e-commerce on the Internet.<br>\n",
    "\n",
    "The main idea of the RSA scheme is simple.  Suppose Alice wants to send a secret message to Bob.  Alice asks Bob to send her an open padlock to which only Bob has a key.  (Bob, like every other member of the community, has an unlimited supply of such locks and sends them out for free on request.)  When Alice receives the lock, she puts her message in a box, puts the lock on it, clicks it locked, and sends the box to Bob."
   ]
  },
  {
   "cell_type": "markdown",
   "metadata": {
    "id": "KXZvlwEpWKNm"
   },
   "source": [
    "<div class=\"alert alert-block alert-danger\">\n",
    "Now try to write the Python code to answer the following questions in the cells below. <i>You may use Python built-in or library functions that might help but <b>not</b> third-party libraries such as Numpy.</i> </div>"
   ]
  },
  {
   "cell_type": "markdown",
   "metadata": {
    "id": "_OPqEjcyWKNm"
   },
   "source": [
    "#### <font color=\"red\"><b>1.</b></font> Write and test a function letterCounts(text) that calculates how many times each letter of the alphabet occurs in text and returns a list of these 26 counts. For example, letterCounts('the fat cat') should return [2,0,1,0,1,0,0,1,0,0,0,0,0,1,0,0,0,0,0,3,0,0,0,0,0,0]."
   ]
  },
  {
   "cell_type": "code",
   "execution_count": 2,
   "metadata": {},
   "outputs": [
    {
     "name": "stdout",
     "output_type": "stream",
     "text": [
      "[2, 0, 1, 0, 1, 1, 0, 1, 0, 0, 0, 0, 0, 0, 0, 0, 0, 0, 0, 3, 0, 0, 0, 0, 0, 0]\n"
     ]
    }
   ],
   "source": [
    "import string\n",
    "def letterCounts(text):\n",
    "    alphabet = string.ascii_lowercase\n",
    "    result = []\n",
    "\n",
    "    for i in alphabet:\n",
    "        occurance = text.count(i)\n",
    "        result.append(occurance)\n",
    "    print(result)\n",
    "\n",
    "letterCounts('the fat cat')"
   ]
  },
  {
   "cell_type": "code",
   "execution_count": null,
   "metadata": {
    "id": "WJuNPUzYXH-l"
   },
   "outputs": [],
   "source": [
    "#alternative method\n",
    "\n",
    "import string\n",
    "alphabet = string.ascii_lowercase\n",
    "text = input('Enter your message: ')\n",
    "result = []\n",
    "    \n",
    "for i in alphabet:\n",
    "    occurance = text.count(i)\n",
    "    result.append(occurance)\n",
    "print(result)"
   ]
  },
  {
   "cell_type": "markdown",
   "metadata": {
    "id": "NN2_-6NYWKNn"
   },
   "source": [
    "#### <font color=\"red\"><b>2.</b></font> Write and test two functions, encode(text, key) and decode(code, key), that implement a substitution cipher with a key.  text, code, and key are strings, and each of the functions returns a string."
   ]
  },
  {
   "cell_type": "code",
   "execution_count": 5,
   "metadata": {
    "id": "R7FqAxAlWKNn"
   },
   "outputs": [
    {
     "name": "stdout",
     "output_type": "stream",
     "text": [
      "abcdefghijklmnopqrstuvwxyz\n",
      "defghijklmnopqrstuvwxyzabc\n"
     ]
    }
   ],
   "source": [
    "import string\n",
    "alphabet = string.ascii_lowercase\n",
    "key = alphabet[3:] + alphabet[:3]\n",
    "print(alphabet)\n",
    "print(key)"
   ]
  },
  {
   "cell_type": "code",
   "execution_count": 16,
   "metadata": {},
   "outputs": [
    {
     "name": "stdout",
     "output_type": "stream",
     "text": [
      "Enter a message: dhiraj\n"
     ]
    },
    {
     "data": {
      "text/plain": [
       "'gkludm'"
      ]
     },
     "execution_count": 16,
     "metadata": {},
     "output_type": "execute_result"
    }
   ],
   "source": [
    "# encode\n",
    "import string\n",
    "alphabet = string.ascii_lowercase\n",
    "key = alphabet[3:] + alphabet[:3]\n",
    "text = input('Enter a message: ')\n",
    "\n",
    "def encode(text,key):\n",
    "    cipherText = ''\n",
    "    for i in text:\n",
    "        if i.lower() in alphabet:\n",
    "            cipherText += key[alphabet.find(i.lower())]\n",
    "        else:\n",
    "            cipherText += i \n",
    "    return cipherText\n",
    "encode(text,key)"
   ]
  },
  {
   "cell_type": "code",
   "execution_count": 18,
   "metadata": {},
   "outputs": [
    {
     "name": "stdout",
     "output_type": "stream",
     "text": [
      "Enter a cipher code: gkludm\n"
     ]
    },
    {
     "data": {
      "text/plain": [
       "'dhiraj'"
      ]
     },
     "execution_count": 18,
     "metadata": {},
     "output_type": "execute_result"
    }
   ],
   "source": [
    "# decode\n",
    "import string\n",
    "alphabet = string.ascii_lowercase\n",
    "key = alphabet[3:] + alphabet[:3]\n",
    "code = input('Enter a cipher code: ')\n",
    "\n",
    "def decode(code,key):\n",
    "    plainText = ''\n",
    "    for i in code:\n",
    "        if i.lower() in key:\n",
    "            plainText += alphabet[key.find(i.lower())]\n",
    "        else:\n",
    "            plainText += i \n",
    "    return plainText\n",
    "decode(code,key)"
   ]
  },
  {
   "cell_type": "markdown",
   "metadata": {
    "id": "dO6uJMDLWKNo"
   },
   "source": [
    "#### <font color=\"red\"><b>3.</b></font> Write and test a function getDigits(s) that returns a string of all digits found in s (in the same order).  For example, getDigits('**1.23a-42') should return '12342'."
   ]
  },
  {
   "cell_type": "code",
   "execution_count": 7,
   "metadata": {
    "id": "9PYN3b6YWKNo"
   },
   "outputs": [
    {
     "data": {
      "text/plain": [
       "'12342'"
      ]
     },
     "execution_count": 7,
     "metadata": {},
     "output_type": "execute_result"
    }
   ],
   "source": [
    "# using iteration\n",
    "def getDigits(s):\n",
    "    result = ''\n",
    "    for i in s:\n",
    "        if i.isnumeric():\n",
    "            result += i\n",
    "    return result\n",
    "            \n",
    "getDigits('**1.23a-42')"
   ]
  },
  {
   "cell_type": "markdown",
   "metadata": {
    "id": "viZA6tFPWKNo"
   },
   "source": [
    "#### <font color=\"red\"><b>4.</b></font> Recall that a valid name in Python can have letters, digits, and underscore characters and cannot start with a digit.  Write a function isValidName(s) that returns True if s represents a valid name in Python; otherwise your function should return False.  Test your function on the following strings:\n",
    "\n",
    "|<font color=\"blue\">Valid|<font color=\"red\">Invalid|\n",
    "| :-: | :-: |\n",
    "|'bDay'|'1a'|\n",
    "|'A0'|'#A'|\n",
    "|'_a_1'|'1_a'|\n",
    "|'_1amt'|'[a]'|\n",
    "|'__'|' ABC'|\n",
    "|'_'|''|\n",
    "| |'A#'|\n",
    "| |'A-2'|\n",
    "| |'a 5+'|\n"
   ]
  },
  {
   "cell_type": "code",
   "execution_count": 12,
   "metadata": {
    "id": "0UCdG8uOWKNp"
   },
   "outputs": [
    {
     "data": {
      "text/plain": [
       "False"
      ]
     },
     "execution_count": 12,
     "metadata": {},
     "output_type": "execute_result"
    }
   ],
   "source": [
    "def isValidName(s):\n",
    "    if not s[0].isalpha() and s[0] != '_':\n",
    "        return False\n",
    "    \n",
    "    if s.isupper():\n",
    "        return False\n",
    "    \n",
    "    for i in s[1:]:\n",
    "        if not i.isalnum() and i != '_':\n",
    "            return False\n",
    "    else:\n",
    "        return True\n",
    "isValidName('8aBc')"
   ]
  },
  {
   "cell_type": "code",
   "execution_count": 13,
   "metadata": {},
   "outputs": [
    {
     "data": {
      "text/plain": [
       "False"
      ]
     },
     "execution_count": 13,
     "metadata": {},
     "output_type": "execute_result"
    }
   ],
   "source": [
    "# alternative method\n",
    "def isValidName(s):\n",
    "    if not s[0].isalpha() and s[0] != '_' or s.upper():\n",
    "        return False\n",
    "    \n",
    "    for i in s[1:]:\n",
    "        if not i.isalnum() and i != '_':\n",
    "            return False\n",
    "    else:\n",
    "        return True\n",
    "isValidName('ABC')"
   ]
  },
  {
   "cell_type": "markdown",
   "metadata": {
    "id": "3FD7lQvUWKNp"
   },
   "source": [
    "#### <font color=\"red\"><b>5.</b></font> Write a new function <i>getDigitsR(s)</i> in answer to question 4, but this time as recursive function.  For example, getDigitsR('+2.93x**4.2') should return '29342'."
   ]
  },
  {
   "cell_type": "code",
   "execution_count": 21,
   "metadata": {},
   "outputs": [
    {
     "data": {
      "text/plain": [
       "'29342'"
      ]
     },
     "execution_count": 21,
     "metadata": {},
     "output_type": "execute_result"
    }
   ],
   "source": [
    "def getDigitsR(s):\n",
    "    if len(s) < 1:\n",
    "        return ''\n",
    "    if s[0].isnumeric():\n",
    "        return s[0] + getDigitsR(s[1:])\n",
    "    else:\n",
    "        return getDigitsR(s[1:])\n",
    "getDigitsR('+2.93x**4.2')"
   ]
  },
  {
   "cell_type": "markdown",
   "metadata": {
    "id": "7wUM_ul_WKNp"
   },
   "source": [
    "#### <font color=\"red\"><b>6.</b></font> Research the working of the Vigenere cipher algorithm on the Internet.  From that implement an encode(text, key) and decode(code, key) function for the Vigenere cipher.  Test your encription and decription functions using any favourite quote of your choice."
   ]
  },
  {
   "cell_type": "code",
   "execution_count": null,
   "metadata": {},
   "outputs": [],
   "source": []
  },
  {
   "cell_type": "markdown",
   "metadata": {
    "id": "6TJl6QJQWKNp"
   },
   "source": [
    "### Downloading your workbook"
   ]
  },
  {
   "cell_type": "markdown",
   "metadata": {
    "id": "XfCXAoOvWKNq"
   },
   "source": [
    "Please note even if you are Jupyter on your computer (ie. not on a network) the Jupyter notebook runs as a server, so you are editing and running a file that is not easily accessed on your filing system. So to obtain your workbook (to use on a different computer or upload as an assignment, etc.) it must be downloaded to your file system. To do this..."
   ]
  },
  {
   "cell_type": "markdown",
   "metadata": {
    "id": "1Z35ZMa3WKNq"
   },
   "source": [
    "<div class=\"alert alert-block alert-info\">Goto the <b>\"File\"</b> menu and select the <b>\"Download as\"</b> item. You can then select <b>\"notebook (ipynb)\"</b> to download.</div>"
   ]
  }
 ],
 "metadata": {
  "colab": {
   "name": "09_Workshop9.ipynb",
   "provenance": []
  },
  "kernelspec": {
   "display_name": "Python 3",
   "language": "python",
   "name": "python3"
  },
  "language_info": {
   "codemirror_mode": {
    "name": "ipython",
    "version": 3
   },
   "file_extension": ".py",
   "mimetype": "text/x-python",
   "name": "python",
   "nbconvert_exporter": "python",
   "pygments_lexer": "ipython3",
   "version": "3.8.8"
  }
 },
 "nbformat": 4,
 "nbformat_minor": 1
}
