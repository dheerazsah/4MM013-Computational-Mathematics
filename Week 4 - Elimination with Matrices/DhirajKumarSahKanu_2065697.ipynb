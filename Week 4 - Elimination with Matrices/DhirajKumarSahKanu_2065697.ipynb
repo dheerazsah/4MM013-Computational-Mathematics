{
 "cells": [
  {
   "cell_type": "markdown",
   "id": "c9c56d74",
   "metadata": {},
   "source": [
    "Name: Dhiraj Kumar Sah Kanu <br>\n",
    "ID: 2065697"
   ]
  },
  {
   "cell_type": "markdown",
   "id": "cb46ace0",
   "metadata": {},
   "source": [
    "## MATRIX OPERATIONS"
   ]
  },
  {
   "cell_type": "markdown",
   "id": "5e1304c2",
   "metadata": {},
   "source": [
    "#### <font color=\"red\"><b>1.</b></font>Write a Python function that returns the sum of all the elements of a given matrix. Call the function matrixSum, it should take one argument, the matrix m and return a single value. ie [[1,2,3],[4,5,6]] would return 21. Write your own solution do not use the Numpy library.  <i>matrixTran()</i>"
   ]
  },
  {
   "cell_type": "code",
   "execution_count": 14,
   "id": "d6cf0453",
   "metadata": {
    "scrolled": false
   },
   "outputs": [
    {
     "name": "stdout",
     "output_type": "stream",
     "text": [
      "The sum of all the elements of a given matrix is:  38\n"
     ]
    }
   ],
   "source": [
    "def matrixSum():\n",
    "    # given matrix\n",
    "    m = [[5, 2, 1], [15, 8, 7]]\n",
    "    result = 0\n",
    "    \n",
    "    # using loop through rows\n",
    "    for i in range(len(m)):\n",
    "        \n",
    "        # using loop through columns\n",
    "        for j in range(len(m[0])):\n",
    "            result += m[i][j]\n",
    "            \n",
    "    # output result       \n",
    "    print(\"The sum of all the elements of a given matrix is: \",result)\n",
    "matrixSum()"
   ]
  },
  {
   "cell_type": "code",
   "execution_count": 16,
   "id": "59539f2c",
   "metadata": {},
   "outputs": [
    {
     "data": {
      "text/plain": [
       "21"
      ]
     },
     "execution_count": 16,
     "metadata": {},
     "output_type": "execute_result"
    }
   ],
   "source": [
    "#Alternate method\n",
    "def matrixSum(m):\n",
    "    sum=0\n",
    "    \n",
    "    # using loop through rows\n",
    "    for i in range(len(m)):\n",
    "        \n",
    "        # using loop through columns\n",
    "        for j in range(len(m[0])):\n",
    "            sum=sum+m[i][j]\n",
    "    return sum\n",
    "        \n",
    "matrixSum([[1,2,3],[4,5,6]])"
   ]
  },
  {
   "cell_type": "markdown",
   "id": "75476b90",
   "metadata": {},
   "source": [
    "#### <font color=\"red\"><b>2.</b></font> Write a Python program that prints the second column of   of the a given 3*3 matrix.  <i></i>"
   ]
  },
  {
   "cell_type": "code",
   "execution_count": 23,
   "id": "1510361e",
   "metadata": {
    "scrolled": false
   },
   "outputs": [
    {
     "name": "stdout",
     "output_type": "stream",
     "text": [
      "The second column of given matrix is:\n",
      "2\n",
      "5\n",
      "8\n"
     ]
    }
   ],
   "source": [
    "#3*3 given matrix \n",
    "matrix = [[1,2,3],[4,5,6],[7,8,9]]\n",
    "print(\"The second column of given matrix is:\")\n",
    "\n",
    "# iterating through rows\n",
    "for i in range(len(matrix)):\n",
    "    \n",
    "    #output result\n",
    "    print(matrix[i][1])"
   ]
  },
  {
   "cell_type": "markdown",
   "id": "0c661b3c",
   "metadata": {},
   "source": [
    "#### <font color=\"red\"><b>3.</b></font> Write a Python function that returns the determinant  of the a given 2*2 matrix.  Call the function <i>matrixDet()</i>"
   ]
  },
  {
   "cell_type": "code",
   "execution_count": 26,
   "id": "d17ea149",
   "metadata": {},
   "outputs": [
    {
     "name": "stdout",
     "output_type": "stream",
     "text": [
      "The determinant of given 2*2 matrix is: 22\n"
     ]
    }
   ],
   "source": [
    "def matrixDet():\n",
    "    #2*2 given matrix \n",
    "    matrix = [[4, 2], [7, 9]]\n",
    "    \n",
    "    #determinant logic used\n",
    "    determinant = (matrix[0][0] * matrix[1][1]) - (matrix[0][1] * matrix[1][0])\n",
    "    return determinant\n",
    "\n",
    "#output result\n",
    "print('The determinant of given 2*2 matrix is:', matrixDet())"
   ]
  },
  {
   "cell_type": "markdown",
   "id": "e30c7944",
   "metadata": {},
   "source": [
    "#### <font color=\"red\"><b>4.</b></font> Write a Python function that removes the the empty items from the list.  Call the function <i>removeEmpty()</i>"
   ]
  },
  {
   "cell_type": "code",
   "execution_count": 33,
   "id": "30ff5c53",
   "metadata": {
    "scrolled": false
   },
   "outputs": [
    {
     "name": "stdout",
     "output_type": "stream",
     "text": [
      "['P', 'R', 'T']\n"
     ]
    }
   ],
   "source": [
    "def removeEmpty():\n",
    "    #given list with empty items\n",
    "    lst = [\"P\", \" \", \"R\", \" \", \"T\"]\n",
    "    \n",
    "    #declaring value of empty items\n",
    "    withoutEmptystring = []\n",
    "    for string in lst:\n",
    "        if (string != \" \"):\n",
    "            withoutEmptystring.append(string)\n",
    "            \n",
    "    #output result\n",
    "    print(withoutEmptystring)\n",
    "removeEmpty()"
   ]
  },
  {
   "cell_type": "code",
   "execution_count": 35,
   "id": "72f520e7",
   "metadata": {},
   "outputs": [
    {
     "name": "stdout",
     "output_type": "stream",
     "text": [
      "['P', 'R', 'T']\n"
     ]
    }
   ],
   "source": [
    "#Alternate method\n",
    "def removeEmpty():\n",
    "    #given list with empty items\n",
    "    lst = [\"P\", \"\", \"R\", \"T\"]\n",
    "    \n",
    "    #declaring value of empty items\n",
    "    withoutEmptystrings = [string for string in lst if string != \"\"]\n",
    "    \n",
    "    #output result\n",
    "    print(withoutEmptystrings)\n",
    "removeEmpty()"
   ]
  },
  {
   "cell_type": "markdown",
   "id": "b7b9870d",
   "metadata": {},
   "source": [
    "#### <font color=\"red\"><b>5.</b></font> Write a Python function that adds the two matrices of same order and returns the sum.  Call the function <i>matrixAdd()</i>"
   ]
  },
  {
   "cell_type": "code",
   "execution_count": 52,
   "id": "52ed7a7d",
   "metadata": {
    "scrolled": false
   },
   "outputs": [
    {
     "name": "stdout",
     "output_type": "stream",
     "text": [
      "[4, 6]\n",
      "[11, 13]\n"
     ]
    }
   ],
   "source": [
    "# Program to add two matrices using list comprehension\n",
    "def matrixAdd():\n",
    "    #given two matrices\n",
    "    matrixOne = [[1,2],[4,5]]\n",
    "    matrixTwo = [[3,4],[7,8]]\n",
    "    \n",
    "    sum = [[matrixOne[i][j] + matrixTwo[i][j]\n",
    "    # loop for column\n",
    "    for j in range(len(matrixOne[0]))]\n",
    "              \n",
    "              # loop for rows\n",
    "              for i in range(len(matrixTwo))]\n",
    "    for s in sum:\n",
    "        #output result\n",
    "       print(s)\n",
    "       \n",
    "matrixAdd()"
   ]
  },
  {
   "cell_type": "markdown",
   "id": "ad08ece2",
   "metadata": {},
   "source": [
    "#### <font color=\"red\"><b>6.</b></font> Write a Python function that returns the transpose of the a given matrix.  Call the function <i>matrixTran()</i>"
   ]
  },
  {
   "cell_type": "code",
   "execution_count": 60,
   "id": "6de754f1",
   "metadata": {},
   "outputs": [
    {
     "name": "stdout",
     "output_type": "stream",
     "text": [
      "Transpose of given matrix is: [[1, 4, 7], [2, 5, 8], [3, 6, 9]]\n"
     ]
    }
   ],
   "source": [
    "def matrixTran():\n",
    "    #given 3*3 matrix\n",
    "    matrix = [[1, 2, 3], [4, 5, 6], [7, 8, 9]]\n",
    "    result = []\n",
    "    \n",
    "    # loop for column\n",
    "    for j in range(len(matrix[0])):\n",
    "        emptyMatrix = []\n",
    "        \n",
    "        # loop for rows\n",
    "        for i in range(len(matrix)):\n",
    "            emptyMatrix.append(matrix[i][j])\n",
    "        result.append(emptyMatrix)\n",
    "    \n",
    "    #output result\n",
    "    return result\n",
    "print('Transpose of given matrix is:', matrixTran())"
   ]
  },
  {
   "cell_type": "code",
   "execution_count": 56,
   "id": "09368a58",
   "metadata": {},
   "outputs": [
    {
     "name": "stdout",
     "output_type": "stream",
     "text": [
      "[1, 3, 5]\n",
      "[2, 4, 6]\n",
      "[7, 8, 9]\n"
     ]
    }
   ],
   "source": [
    "#alternate method\n",
    "def matrixTran():\n",
    "    #given  3*3 matrices\n",
    "    matrix = [[1,2, 7], [3 ,4, 8], [5 ,6, 9]]\n",
    "\n",
    "    result = [[matrix[j][i] for j in range(len(matrix))] for i in range(len(matrix[0]))]\n",
    "    \n",
    "    #output result\n",
    "    for r in result:\n",
    "       print(r)\n",
    "matrixTran()"
   ]
  }
 ],
 "metadata": {
  "kernelspec": {
   "display_name": "Python 3",
   "language": "python",
   "name": "python3"
  },
  "language_info": {
   "codemirror_mode": {
    "name": "ipython",
    "version": 3
   },
   "file_extension": ".py",
   "mimetype": "text/x-python",
   "name": "python",
   "nbconvert_exporter": "python",
   "pygments_lexer": "ipython3",
   "version": "3.8.8"
  }
 },
 "nbformat": 4,
 "nbformat_minor": 5
}
