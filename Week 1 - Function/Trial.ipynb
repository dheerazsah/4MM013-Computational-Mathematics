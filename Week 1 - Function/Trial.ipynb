{
 "cells": [
  {
   "cell_type": "code",
   "execution_count": 4,
   "id": "195659e7",
   "metadata": {},
   "outputs": [
    {
     "name": "stdout",
     "output_type": "stream",
     "text": [
      "Hello World, x = 0\n",
      "Hello World, x = 1\n",
      "Hello World, x = 2\n",
      "Hello World, x = 3\n",
      "Hello World, x = 4\n",
      "x =5\n"
     ]
    }
   ],
   "source": [
    "#while loop\n",
    "x = 0\n",
    "while x < 5:\n",
    "    print(\"Hello World, x = \" + str(x))\n",
    "    x = x + 1\n",
    "print(\"x =\" + str(x))"
   ]
  },
  {
   "cell_type": "code",
   "execution_count": 5,
   "id": "20bdd354",
   "metadata": {},
   "outputs": [
    {
     "name": "stdout",
     "output_type": "stream",
     "text": [
      "1\n",
      "3\n",
      "5\n",
      "7\n",
      "9\n"
     ]
    }
   ],
   "source": [
    "for x in range(1, 10, 2):\n",
    "    print(x)"
   ]
  },
  {
   "cell_type": "code",
   "execution_count": null,
   "id": "d5e22a90",
   "metadata": {},
   "outputs": [],
   "source": []
  }
 ],
 "metadata": {
  "kernelspec": {
   "display_name": "Python 3",
   "language": "python",
   "name": "python3"
  },
  "language_info": {
   "codemirror_mode": {
    "name": "ipython",
    "version": 3
   },
   "file_extension": ".py",
   "mimetype": "text/x-python",
   "name": "python",
   "nbconvert_exporter": "python",
   "pygments_lexer": "ipython3",
   "version": "3.8.8"
  }
 },
 "nbformat": 4,
 "nbformat_minor": 5
}
