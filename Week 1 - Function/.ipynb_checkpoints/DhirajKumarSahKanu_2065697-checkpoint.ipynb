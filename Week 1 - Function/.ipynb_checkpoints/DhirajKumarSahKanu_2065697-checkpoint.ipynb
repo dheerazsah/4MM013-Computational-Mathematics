{
 "cells": [
  {
   "cell_type": "markdown",
   "metadata": {},
   "source": [
    "Name: Dhiraj Kumar Sah Kanu <br>\n",
    "ID: 2065697"
   ]
  },
  {
   "cell_type": "markdown",
   "metadata": {},
   "source": [
    "## Python Workshop 1 Exercises"
   ]
  },
  {
   "cell_type": "markdown",
   "metadata": {},
   "source": [
    "<div class=\"alert alert-block alert-info\">\n",
    "<font color=\"black\">Suppose we don’t know the formula for the sum and want to use a “brute force” approach.  We can calculate the sum <i>1 + 2 + ... + n</i>  using a loop:</font> </div>"
   ]
  },
  {
   "cell_type": "markdown",
   "metadata": {},
   "source": [
    "<code>sum1n = 0\n",
    "i = 1\n",
    "while i <= n:\n",
    "    sum1n += i  # same as sum1n = sum1n + i\n",
    "    i += 1 </code>"
   ]
  },
  {
   "cell_type": "markdown",
   "metadata": {},
   "source": [
    "<div class=\"alert alert-block alert-info\"><font color=\"black\">This loop can also be nested within another loop to calculate a series of numbers:</font></div>"
   ]
  },
  {
   "cell_type": "code",
   "execution_count": 7,
   "metadata": {},
   "outputs": [
    {
     "name": "stdout",
     "output_type": "stream",
     "text": [
      "Enter a positive integer: 10\n",
      "The sum of positive from 1 to 10 is\n",
      "  1      1\n",
      "  2      3\n",
      "  3      6\n",
      "  4     10\n",
      "  5     15\n",
      "  6     21\n",
      "  7     28\n",
      "  8     36\n",
      "  9     45\n",
      " 10     55\n"
     ]
    }
   ],
   "source": [
    "## Sums1toN program\n",
    "nMax = int(input(\"Enter a positive integer: \"))\n",
    "print(f\"The sum of positive from 1 to {nMax} is\")\n",
    "n = 1\n",
    "while n <= nMax:\n",
    "    sum1n = 0\n",
    "    i = 1\n",
    "    while i <= n: #i=1 n=1\n",
    "        sum1n += i #sum=sum+1\n",
    "        i += 1\n",
    "    print('{0:3d} {1:6d}'.format(n, sum1n))\n",
    "    n += 1"
   ]
  },
  {
   "cell_type": "markdown",
   "metadata": {},
   "source": [
    "<div class=\"alert alert-block alert-info\"><font color=\"black\">Type in the little program above into the cell below.  To run it select the cell and then press the <b>run-button</b> from the button bar above. Test the program and ensure it runs correctly.</font></div>"
   ]
  },
  {
   "cell_type": "markdown",
   "metadata": {},
   "source": []
  },
  {
   "cell_type": "markdown",
   "metadata": {},
   "source": [
    "<div class=\"alert alert-block alert-danger\">\n",
    "Now try to write the Python code to answer the following questions in the cells below \n",
    "</div>"
   ]
  },
  {
   "cell_type": "markdown",
   "metadata": {},
   "source": [
    "#### <font color=\"red\"><b>1.</b></font> Modify the Sums1toN.py program to accept only an odd positive integer nMax from the user and print the sums of positive odd integers for *n = 1, 3, ..., nMax.*"
   ]
  },
  {
   "cell_type": "code",
   "execution_count": 8,
   "metadata": {
    "scrolled": true
   },
   "outputs": [
    {
     "name": "stdout",
     "output_type": "stream",
     "text": [
      "Enter an odd positive integer: 10\n",
      "The sum of positive odd integers for n=1, 3, ...., 10 is\n",
      "  1      1\n",
      "  3      4\n",
      "  5      9\n",
      "  7     16\n",
      "  9     25\n"
     ]
    }
   ],
   "source": [
    "nMax = int(input(\"Enter an odd positive integer: \"))\n",
    "print(f\"The sum of positive odd integers for n=1, 3, ...., {nMax} is\")\n",
    "n = 1\n",
    "while n <= nMax:\n",
    "    sum1n = 0\n",
    "    i = 1\n",
    "    while i <= n: #i=1 n=1\n",
    "        sum1n += i #sum=sum+1\n",
    "        i += 2\n",
    "    print('{0:3d} {1:6d}'.format(n, sum1n))\n",
    "    n += 2"
   ]
  },
  {
   "cell_type": "markdown",
   "metadata": {},
   "source": [
    "#### <font color=\"red\"><b>2.</b></font> Write a program that prompts the user for a positive integer n and prints all positive multiples of 6 *ie. (6, 12, 18, etc.)* that do not exceed n."
   ]
  },
  {
   "cell_type": "code",
   "execution_count": 13,
   "metadata": {},
   "outputs": [
    {
     "name": "stdout",
     "output_type": "stream",
     "text": [
      "Enter a positive integer: 100\n",
      "The positive multiples of 6 is that donot exceed 100 is\n",
      "6\n",
      "12\n",
      "18\n",
      "24\n",
      "30\n",
      "36\n",
      "42\n",
      "48\n",
      "54\n",
      "60\n",
      "66\n",
      "72\n",
      "78\n",
      "84\n",
      "90\n",
      "96\n"
     ]
    }
   ],
   "source": [
    "n = int(input(\"Enter a positive integer: \"))\n",
    "print(f\"The positive multiples of 6 is that donot exceed {n} is\")\n",
    "i = 6\n",
    "while i <= n:\n",
    "    print(i)\n",
    "    i = i + 6"
   ]
  },
  {
   "cell_type": "markdown",
   "metadata": {},
   "source": [
    "#### <font color=\"red\"><b>3.</b></font> Using Sums1toN.py as a prototype, write a program that prompts the user to enter a positive integer nMax and displays n and n! (n-factorial) for n from 1 to nMax.   .  "
   ]
  },
  {
   "cell_type": "code",
   "execution_count": 16,
   "metadata": {},
   "outputs": [
    {
     "name": "stdout",
     "output_type": "stream",
     "text": [
      "Enter a positive integer number10\n",
      "The factorial from 1 to 10 is\n",
      "  1!          1\n",
      "  2!          2\n",
      "  3!          6\n",
      "  4!         24\n",
      "  5!        120\n",
      "  6!        720\n",
      "  7!       5040\n",
      "  8!      40320\n",
      "  9!     362880\n",
      " 10!    3628800\n"
     ]
    }
   ],
   "source": [
    "nMax = int(input(\"Enter a positive integer number\"))\n",
    "print(f\"The factorial from 1 to {nMax} is\")\n",
    "n = 1\n",
    "while n <= nMax:\n",
    "    fact1n = 1\n",
    "    i = 1\n",
    "    while i <= n: \n",
    "        fact1n *= i \n",
    "        i += 1\n",
    "    print('{0:3d}! {1:10d}'.format(n, fact1n))\n",
    "    n += 1"
   ]
  },
  {
   "cell_type": "markdown",
   "metadata": {},
   "source": [
    "<div class=\"alert alert-block alert-danger\"><b>Note:</b> most of the programs for this module do not require you to use the <i>input</i> statement to load data into your code. To avoid loosing marks (for over use of the input statement) You should only use input statements where the question includes the phrases like <font color=\"red\"><i>\"prompts the user..\"</i></font>, <font color=\"red\"><i>\"from the user..\"</i></font> or <font color=\"red\"><i>\"ask the user..\"</i></font>. <b>ie. for questions 4,5 & 6 hard code the data in the program</b></div>"
   ]
  },
  {
   "cell_type": "markdown",
   "metadata": {},
   "source": [
    "#### <font color=\"red\"><b>4.</b></font> Write a program that prints n, $ s_{1}(n)=\\sum \\limits _{k=1} ^{n} k $ , $ s_{2}(n)=\\sum \\limits _{k=1} ^{n} k ^{2} $ , and  $ \\frac{3s_{2}(n)}{s_{1}(n)} $ for n = 1, 2, 3, ..., 20.  Try to guess the general formula for  $ \\sum \\limits _{k=1} ^{n} k ^{2} $ from the resulting table."
   ]
  },
  {
   "cell_type": "code",
   "execution_count": null,
   "metadata": {},
   "outputs": [],
   "source": [
    "\"\"\"\"\n",
    "s1=1+2+3+......+20\n",
    "s2=1**2+2**2+.....+20**2\n",
    "s3=3*s2/s1\n",
    "\"\"\"\n",
    "\n",
    "n = 20\n",
    "k = 1\n",
    "while k <= n:\n",
    "    i = 1\n",
    "    s1 = 0\n",
    "    s2 = 2\n",
    "    while k <= k:\n",
    "        s1 += i\n",
    "        s2 += i * i\n",
    "        s3 = 3 * s2 / s1\n",
    "        i += 1\n",
    "    print(k, s1, s2, s3)\n",
    "    k += 1"
   ]
  },
  {
   "cell_type": "markdown",
   "metadata": {},
   "source": [
    "#### <font color=\"red\"><b>5.</b></font> Write a function printSquare(n) that displays a “square” whose side has n stars.  For example, for n = 5, the output should be: "
   ]
  },
  {
   "cell_type": "markdown",
   "metadata": {},
   "source": [
    "`*****`<br>\n",
    "`*   *`<br>\n",
    "`*   *`<br>\n",
    "`*   *`<br>\n",
    "`*****`<br>"
   ]
  },
  {
   "cell_type": "markdown",
   "metadata": {},
   "source": [
    "##### Use only one while loop.  (Actually, in Python, you can write this function without any loops, on one line.  Can you figure out how?) "
   ]
  },
  {
   "cell_type": "code",
   "execution_count": null,
   "metadata": {},
   "outputs": [],
   "source": [
    "def printSquare(n):\n",
    "    print('*'*n)\n",
    "    i = 0 \n",
    "    while i < n - 2:\n",
    "        print('*' + ' ' * (n - 2) + '*')\n",
    "        i += 1\n",
    "    print('*' * n)\n",
    "printSquare(5)"
   ]
  },
  {
   "cell_type": "markdown",
   "metadata": {},
   "source": [
    "#### <font color=\"red\"><b>6.</b></font> Write a function <i>myPow(x, n)</i> that returns $x ^{n}$, where   and n is a non-negative integer.  Do not use the ** operator or the math.pow function — use one <i>while</i> loop.  Hint:  $ x ^{0} = 1 $.  "
   ]
  },
  {
   "cell_type": "code",
   "execution_count": null,
   "metadata": {},
   "outputs": [],
   "source": []
  },
  {
   "cell_type": "markdown",
   "metadata": {},
   "source": [
    "### Downloading your workbook"
   ]
  },
  {
   "cell_type": "markdown",
   "metadata": {},
   "source": [
    "Please note even if you are Jupyter on your computer (ie. not on a network) the Jupyter notebook runs as a server, so you are not running and editing a file on your filing system. So to obtain your workbook (to use on a different computer or upload as an assignment, etc.) it must be downloaded to your file system. To do this...  "
   ]
  },
  {
   "cell_type": "markdown",
   "metadata": {},
   "source": [
    "<div class=\"alert alert-block alert-info\">Goto the <b>\"File\"</b> menu and select the <b>\"Download as\"</b> item. You can then select <b>\"notebook (ipynb)\"</b> to download.</div>"
   ]
  }
 ],
 "metadata": {
  "kernelspec": {
   "display_name": "Python 3",
   "language": "python",
   "name": "python3"
  },
  "language_info": {
   "codemirror_mode": {
    "name": "ipython",
    "version": 3
   },
   "file_extension": ".py",
   "mimetype": "text/x-python",
   "name": "python",
   "nbconvert_exporter": "python",
   "pygments_lexer": "ipython3",
   "version": "3.8.8"
  }
 },
 "nbformat": 4,
 "nbformat_minor": 2
}
